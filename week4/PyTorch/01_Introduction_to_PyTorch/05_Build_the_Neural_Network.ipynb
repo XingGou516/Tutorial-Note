{
 "cells": [
  {
   "cell_type": "markdown",
   "id": "4a1e54bd",
   "metadata": {},
   "source": [
    "# 构建神经网络模型\n",
    "\n",
    "- 译文：https://pytorch.apachecn.org/2.0/tutorials/beginner/basics/buildmodel_tutorial\n",
    "- 原文：https://pytorch.org/tutorials/beginner/basics/buildmodel_tutorial.html"
   ]
  },
  {
   "cell_type": "markdown",
   "id": "21d8b3e0",
   "metadata": {},
   "source": [
    "## 概览\n",
    "\n",
    "- 神经网络由模块/层组成；PyTorch 中每个模块是 `nn.Module` 的子类。\n",
    "- 可嵌套模块（模块内部包含其他模块），便于组织复杂模型。\n",
    "- 本文以一个全连接网络为例，展示定义、前向传播、层的行为与参数访问。"
   ]
  },
  {
   "cell_type": "code",
   "execution_count": null,
   "id": "ea9bc807",
   "metadata": {},
   "outputs": [],
   "source": [
    "import os\n",
    "import torch\n",
    "from torch import nn\n",
    "from torch.utils.data import DataLoader\n",
    "from torchvision import datasets, transforms"
   ]
  },
  {
   "cell_type": "code",
   "execution_count": null,
   "id": "d7d1eec5",
   "metadata": {},
   "outputs": [],
   "source": [
    "# 获取训练设备（cuda / mps / cpu）\n",
    "device = (\n",
    "    \"cuda\"\n",
    "    if torch.cuda.is_available()\n",
    "    else \"mps\"\n",
    "    if torch.backends.mps.is_available()\n",
    "    else \"cpu\"\n",
    ")\n",
    "print(f\"Using {device} device\")"
   ]
  },
  {
   "cell_type": "code",
   "execution_count": null,
   "id": "a3419b65",
   "metadata": {},
   "outputs": [],
   "source": [
    "# 定义模型：继承 nn.Module\n",
    "class NeuralNetwork(nn.Module):\n",
    "    def __init__(self):\n",
    "        super().__init__()\n",
    "        self.flatten = nn.Flatten()\n",
    "        self.linear_relu_stack = nn.Sequential(\n",
    "            nn.Linear(28*28, 512),\n",
    "            nn.ReLU(),\n",
    "            nn.Linear(512, 512),\n",
    "            nn.ReLU(),\n",
    "            nn.Linear(512, 10),\n",
    "        )\n",
    "\n",
    "    def forward(self, x):\n",
    "        x = self.flatten(x)\n",
    "        logits = self.linear_relu_stack(x)\n",
    "        return logits\n",
    "\n",
    "# 实例化并移动到 device\n",
    "model = NeuralNetwork().to(device)\n",
    "print(model)"
   ]
  },
  {
   "cell_type": "code",
   "execution_count": null,
   "id": "a865dad7",
   "metadata": {},
   "outputs": [],
   "source": [
    "# 将数据传入模型（会调用 forward）\n",
    "X = torch.rand(1, 28, 28, device=device)\n",
    "logits = model(X)\n",
    "# 获取预测概率与类别\n",
    "pred_probab = nn.Softmax(dim=1)(logits)\n",
    "y_pred = pred_probab.argmax(1)\n",
    "print(f\"Predicted class: {y_pred}\")"
   ]
  },
  {
   "cell_type": "markdown",
   "id": "2212855f",
   "metadata": {},
   "source": [
    "## 模型层与行为说明\n",
    "\n",
    "- `nn.Flatten`：把每个 2D 图像（28×28）展平为一维（784），保留批次维度。\n",
    "- `nn.Linear`：线性变换层 y = xW^T + b，包含可训练参数 `weight` 和 `bias`。\n",
    "- 激活函数（如 `nn.ReLU`）在线性层后引入非线性，帮助模型拟合复杂函数。\n",
    "- `nn.Sequential`：按顺序组合模块，输入依次通过每个子模块。"
   ]
  },
  {
   "cell_type": "code",
   "execution_count": null,
   "id": "07aead80",
   "metadata": {},
   "outputs": [],
   "source": [
    "# 分步查看各层效果示例\n",
    "input_image = torch.rand(3, 28, 28)\n",
    "print('input size:', input_image.size())\n",
    "\n",
    "flatten = nn.Flatten()\n",
    "flat_image = flatten(input_image)\n",
    "print('after flatten:', flat_image.size())\n",
    "\n",
    "layer1 = nn.Linear(28*28, 20)\n",
    "hidden1 = layer1(flat_image)\n",
    "print('after linear (3,20):', hidden1.size())\n",
    "\n",
    "print('before ReLU:', hidden1[0, :5])\n",
    "hidden1 = nn.ReLU()(hidden1)\n",
    "print('after ReLU:', hidden1[0, :5])\n",
    "\n",
    "# 使用 sequential\n",
    "seq_modules = nn.Sequential(\n",
    "    flatten,\n",
    "    nn.Linear(28*28, 20),\n",
    "    nn.ReLU(),\n",
    "    nn.Linear(20, 10),\n",
    ")\n",
    "logits = seq_modules(input_image)\n",
    "print('seq output size:', logits.size())"
   ]
  },
  {
   "cell_type": "code",
   "execution_count": null,
   "id": "33dc0c2c",
   "metadata": {},
   "outputs": [],
   "source": [
    "# 访问模型参数（named_parameters）\n",
    "print(f\"Model structure: {model}\\n\\n\")\n",
    "for name, param in model.named_parameters():\n",
    "    print(f\"Layer: {name} | Size: {param.size()} | Values : {param[:2]} \\n\")"
   ]
  }
 ],
 "metadata": {
  "kernelspec": {
   "display_name": "ML3.10",
   "language": "python",
   "name": "python3"
  },
  "language_info": {
   "codemirror_mode": {
    "name": "ipython",
    "version": 3
   },
   "file_extension": ".py",
   "mimetype": "text/x-python",
   "name": "python",
   "nbconvert_exporter": "python",
   "pygments_lexer": "ipython3",
   "version": "3.10.0"
  }
 },
 "nbformat": 4,
 "nbformat_minor": 5
}
