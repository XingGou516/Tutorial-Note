{
 "cells": [
  {
   "cell_type": "markdown",
   "id": "825933df",
   "metadata": {},
   "source": [
    "# 数据集和数据加载器\n",
    "\n",
    "- 译文：https://pytorch.apachecn.org/2.0/tutorials/beginner/basics/data_tutorial\n",
    "- 原文：https://pytorch.org/tutorials/beginner/basics/data_tutorial.html"
   ]
  },
  {
   "cell_type": "markdown",
   "id": "33b286b7",
   "metadata": {},
   "source": [
    "## 概要\n",
    "\n",
    "- 问题：处理数据样本的代码容易变得混乱，难以维护。\n",
    "- 目标：将数据逻辑与训练逻辑分离，提高可读性与模块化。\n",
    "- PyTorch 提供两个基类：`torch.utils.data.Dataset`（表示数据集，负责单样本读取与转换）与 `torch.utils.data.DataLoader`（在 Dataset 之上提供可迭代的批次、shuffle、并行加载等）。\n",
    "- 同时也有预置数据集（如 FashionMNIST），可用于原型与基准测试。"
   ]
  },
  {
   "cell_type": "code",
   "execution_count": null,
   "id": "bd005d85",
   "metadata": {},
   "outputs": [],
   "source": [
    "import torch\n",
    "from torch.utils.data import Dataset\n",
    "from torchvision import datasets\n",
    "from torchvision.transforms import ToTensor\n",
    "import matplotlib.pyplot as plt"
   ]
  },
  {
   "cell_type": "code",
   "execution_count": null,
   "id": "99f26001",
   "metadata": {},
   "outputs": [],
   "source": [
    "# 从 torchvision 加载 FashionMNIST 数据集\n",
    "training_data = datasets.FashionMNIST(\n",
    "    root='data',\n",
    "    train=True,\n",
    "    download=True,\n",
    "    transform=ToTensor(),\n",
    ")\n",
    "\n",
    "test_data = datasets.FashionMNIST(\n",
    "    root='data',\n",
    "    train=False,\n",
    "    download=True,\n",
    "    transform=ToTensor(),\n",
    ")\n",
    "\n",
    "print('Training samples:', len(training_data))\n",
    "print('Test samples:', len(test_data))"
   ]
  },
  {
   "cell_type": "markdown",
   "id": "1e0734d8",
   "metadata": {},
   "source": [
    "## 迭代与可视化数据集\n",
    "\n",
    "- 你可以像访问列表一样通过索引访问 `Dataset`（例如 `training_data[idx]`）。下面演示如何随机抽取样本并用 `matplotlib` 可视化。"
   ]
  },
  {
   "cell_type": "code",
   "execution_count": null,
   "id": "4c4c3a5f",
   "metadata": {},
   "outputs": [],
   "source": [
    "labels_map = {\n",
    "    0: 'T-Shirt',\n",
    "    1: 'Trouser',\n",
    "    2: 'Pullover',\n",
    "    3: 'Dress',\n",
    "    4: 'Coat',\n",
    "    5: 'Sandal',\n",
    "    6: 'Shirt',\n",
    "    7: 'Sneaker',\n",
    "    8: 'Bag',\n",
    "    9: 'Ankle Boot',\n",
    "}\n",
    "\n",
    "figure = plt.figure(figsize=(8, 8))\n",
    "cols, rows = 3, 3\n",
    "for i in range(1, cols * rows + 1):\n",
    "    sample_idx = torch.randint(len(training_data), size=(1,)).item()\n",
    "    img, label = training_data[sample_idx]\n",
    "    figure.add_subplot(rows, cols, i)\n",
    "    plt.title(labels_map[label])\n",
    "    plt.axis('off')\n",
    "    plt.imshow(img.squeeze(), cmap='gray')\n",
    "plt.show()"
   ]
  },
  {
   "cell_type": "markdown",
   "id": "49b73157",
   "metadata": {},
   "source": [
    "## 为你的文件创建自定义 Dataset\n",
    "\n",
    "- 自定义 Dataset 必须实现三个方法：`__init__`, `__len__`, `__getitem__`。\n",
    "- 示例场景：图像文件存储在某个目录，标签保存在 CSV 中。下面给出一个可复用的模板类。"
   ]
  },
  {
   "cell_type": "code",
   "execution_count": null,
   "id": "e8907b8e",
   "metadata": {},
   "outputs": [],
   "source": [
    "import os\n",
    "import pandas as pd\n",
    "from torchvision.io import read_image\n",
    "\n",
    "class CustomImageDataset(Dataset):\n",
    "    def __init__(self, annotations_file, img_dir, transform=None, target_transform=None):\n",
    "        self.img_labels = pd.read_csv(annotations_file)\n",
    "        self.img_dir = img_dir\n",
    "        self.transform = transform\n",
    "        self.target_transform = target_transform\n",
    "\n",
    "    def __len__(self):\n",
    "        return len(self.img_labels)\n",
    "\n",
    "    def __getitem__(self, idx):\n",
    "        img_path = os.path.join(self.img_dir, self.img_labels.iloc[idx, 0])\n",
    "        image = read_image(img_path)\n",
    "        label = int(self.img_labels.iloc[idx, 1])\n",
    "        if self.transform:\n",
    "            image = self.transform(image)\n",
    "        if self.target_transform:\n",
    "            label = self.target_transform(label)\n",
    "        return image, label\n",
    "\n",
    "# 使用示例（不运行）：\n",
    "# dataset = CustomImageDataset('annotations.csv', 'img_dir')\n",
    "# img, label = dataset[0]"
   ]
  },
  {
   "cell_type": "markdown",
   "id": "3270269f",
   "metadata": {},
   "source": [
    "### 细节说明\n",
    "\n",
    "- `__init__`：在实例化时运行一次，用于加载标签文件、设置图像目录与转换函数。示例 CSV 行格式：`tshirt1.jpg,0`。\n",
    "- `__len__`：返回数据集大小，通常为标签表的行数。\n",
    "- `__getitem__`：根据索引读取图像文件并返回 `(image_tensor, label)`，在返回前可应用 `transform` 与 `target_transform`。"
   ]
  },
  {
   "cell_type": "markdown",
   "id": "6b92457c",
   "metadata": {},
   "source": [
    "## 使用 DataLoader 为训练准备数据\n",
    "\n",
    "- 在训练中常使用小批量（batch）、每 epoch 洗牌（shuffle）和多进程加载（`num_workers`）来加速训练与提升泛化能力。\n",
    "- `DataLoader` 提供简洁的 API 来实现这些功能。"
   ]
  },
  {
   "cell_type": "code",
   "execution_count": null,
   "id": "d9d1e3a7",
   "metadata": {},
   "outputs": [],
   "source": [
    "from torch.utils.data import DataLoader\n",
    "\n",
    "train_dataloader = DataLoader(training_data, batch_size=64, shuffle=True)\n",
    "test_dataloader  = DataLoader(test_data, batch_size=64, shuffle=True)\n",
    "\n",
    "print('Created DataLoaders: train ->', len(train_dataloader), 'batches; test ->', len(test_dataloader), 'batches')"
   ]
  },
  {
   "cell_type": "code",
   "execution_count": null,
   "id": "d6fd32d5",
   "metadata": {},
   "outputs": [],
   "source": [
    "# 遍历 DataLoader：每个迭代返回一个 batch 的 features 和 labels\n",
    "train_features, train_labels = next(iter(train_dataloader))\n",
    "print(f\"Feature batch shape: {train_features.size()}\")\n",
    "print(f\"Labels batch shape: {train_labels.size()}\")\n",
    "\n",
    "# 可视化第一个样本\n",
    "img = train_features[0].squeeze()\n",
    "label = train_labels[0].item()\n",
    "plt.imshow(img, cmap='gray')\n",
    "plt.title(f'Label: {label}')\n",
    "plt.axis('off')\n",
    "plt.show()"
   ]
  }
 ],
 "metadata": {
  "kernelspec": {
   "display_name": "ML3.10",
   "language": "python",
   "name": "python3"
  },
  "language_info": {
   "codemirror_mode": {
    "name": "ipython",
    "version": 3
   },
   "file_extension": ".py",
   "mimetype": "text/x-python",
   "name": "python",
   "nbconvert_exporter": "python",
   "pygments_lexer": "ipython3",
   "version": "3.10.0"
  }
 },
 "nbformat": 4,
 "nbformat_minor": 5
}
