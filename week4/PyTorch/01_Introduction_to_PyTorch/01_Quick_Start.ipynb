{
 "cells": [
  {
   "cell_type": "markdown",
   "id": "dcd54589",
   "metadata": {},
   "source": [
    "# 快速入门\n",
    "\n",
    "- 译文：https://pytorch.apachecn.org/2.0/tutorials/beginner/basics/quickstart_tutorial\n",
    "- 原文： https://pytorch.org/tutorials/beginner/basics/quickstart_tutorial.html"
   ]
  },
  {
   "cell_type": "markdown",
   "id": "5f5d734b",
   "metadata": {},
   "source": [
    "## 概览\n",
    "\n",
    "- 目标：展示 PyTorch 完成典型机器学习流程的关键 API（Dataset、DataLoader、nn.Module、设备管理）。\n",
    "- 本笔记结构：处理数据 → 创建模型 → 注意事项 → 练习与参考。"
   ]
  },
  {
   "cell_type": "markdown",
   "id": "9963aa72",
   "metadata": {},
   "source": [
    "## 处理数据\n",
    "\n",
    "- 核心概念：\n",
    "  - `Dataset`：保存样本与标签，负责单条样本的读取与预处理（通过 `__len__` 和 `__getitem__` 实现）。\n",
    "  - `DataLoader`：接收 `Dataset` 并提供可迭代的批次，支持批处理、采样、打乱、并行加载等。\n",
    "- torchvision 提供常用视觉数据集（如 CIFAR、COCO、FashionMNIST 等），每个 `Dataset` 常带 `transform`（样本变换）和 `target_transform`（标签变换）。\n",
    "\n",
    "下面示例使用 FashionMNIST 并将图片转换为 Tensor。"
   ]
  },
  {
   "cell_type": "code",
   "execution_count": null,
   "id": "d54d2fe2",
   "metadata": {},
   "outputs": [],
   "source": [
    "import torch\n",
    "from torch import nn\n",
    "from torch.utils.data import DataLoader\n",
    "from torchvision import datasets\n",
    "from torchvision.transforms import ToTensor"
   ]
  },
  {
   "cell_type": "code",
   "execution_count": null,
   "id": "3df5a70f",
   "metadata": {},
   "outputs": [],
   "source": [
    "# 从开源数据集下载训练数据。\n",
    "training_data = datasets.FashionMNIST(\n",
    "    root=\"data\",\n",
    "    train=True,\n",
    "    download=True,\n",
    "    transform=ToTensor(),\n",
    ")\n",
    "\n",
    "# 从开源数据集下载测试数据。\n",
    "test_data = datasets.FashionMNIST(\n",
    "    root=\"data\",\n",
    "    train=False,\n",
    "    download=True,\n",
    "    transform=ToTensor(),\n",
    ")\n",
    "\n",
    "# 运行上述代码会下载并解压数据集。"
   ]
  },
  {
   "cell_type": "markdown",
   "id": "e12f2cb9",
   "metadata": {},
   "source": [
    "## 创建模型\n",
    "\n",
    "- 概念：继承 `torch.nn.Module` 来定义模型。在 `__init__` 中定义层，在 `forward` 中定义数据如何流经模型。使用 `.to(device)` 将模型移动到 `cuda`/`mps`/`cpu` 以加速训练。\n",
    "- 下面给出一个简单的全连接网络示例。"
   ]
  },
  {
   "cell_type": "code",
   "execution_count": null,
   "id": "048925e1",
   "metadata": {},
   "outputs": [],
   "source": [
    "# 获取 cpu, gpu 或 mps 设备用于加速训练.\n",
    "device = (\n",
    "    \"cuda\"\n",
    "    if torch.cuda.is_available()\n",
    "    else \"mps\"\n",
    "    if torch.backends.mps.is_available()\n",
    "    else \"cpu\"\n",
    ")\n",
    "print(f\"Using {device} device\")\n",
    "\n",
    "# 定义神经网络\n",
    "class NeuralNetwork(nn.Module):\n",
    "    def __init__(self):\n",
    "        super().__init__()\n",
    "        self.flatten = nn.Flatten()\n",
    "        self.linear_relu_stack = nn.Sequential(\n",
    "            nn.Linear(28*28, 512),\n",
    "            nn.ReLU(),\n",
    "            nn.Linear(512, 512),\n",
    "            nn.ReLU(),\n",
    "            nn.Linear(512, 10)\n",
    "        )\n",
    "\n",
    "    def forward(self, x):\n",
    "        x = self.flatten(x)\n",
    "        logits = self.linear_relu_stack(x)\n",
    "        return logits\n",
    "\n",
    "model = NeuralNetwork().to(device)\n",
    "print(model)"
   ]
  },
  {
   "cell_type": "markdown",
   "id": "67ca3917",
   "metadata": {},
   "source": [
    "## 注意事项 / 练习 / 参考\n",
    "\n",
    "- 注意：训练时要把输入 tensors 和模型同时移动到相同的 `device`（例如 `X = X.to(device)`）。\n",
    "- 常见边界：内存不足（减小 batch_size）、num_workers 过大（降低或设为 0），MPS 可能与部分功能不兼容。"
   ]
  }
 ],
 "metadata": {
  "kernelspec": {
   "display_name": "ML3.10",
   "language": "python",
   "name": "python3"
  },
  "language_info": {
   "codemirror_mode": {
    "name": "ipython",
    "version": 3
   },
   "file_extension": ".py",
   "mimetype": "text/x-python",
   "name": "python",
   "nbconvert_exporter": "python",
   "pygments_lexer": "ipython3",
   "version": "3.10.0"
  }
 },
 "nbformat": 4,
 "nbformat_minor": 5
}
