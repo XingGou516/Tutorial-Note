{
 "cells": [
  {
   "cell_type": "markdown",
   "id": "50933a63",
   "metadata": {},
   "source": [
    "# 模型保存与加载\n",
    "- 译文项目：https://pytorch.apachecn.org/2.0/tutorials/beginner/basics/saveloadrun_tutorial\n",
    "- 原文：https://pytorch.org/tutorials/beginner/basics/saveloadrun_tutorial.html"
   ]
  },
  {
   "cell_type": "markdown",
   "id": "7f78c224",
   "metadata": {},
   "source": [
    "## 概览\n",
    "\n",
    "- PyTorch 把模型参数保存在 `state_dict` 中（字典映射层名到张量）。\n",
    "- 常见流程：保存权重（`model.state_dict()`）→ 建立相同结构的模型 → 加载权重（`load_state_dict`）→ 切换到评估模式（`model.eval()`）。\n",
    "- 也可以保存完整模型对象（包含结构与参数），但推荐保存 `state_dict` 以便更灵活地重建模型结构。"
   ]
  },
  {
   "cell_type": "code",
   "execution_count": null,
   "id": "b35e0290",
   "metadata": {},
   "outputs": [],
   "source": [
    "import torch\n",
    "import torchvision.models as models"
   ]
  },
  {
   "cell_type": "code",
   "execution_count": null,
   "id": "f716e1a3",
   "metadata": {},
   "outputs": [],
   "source": [
    "# 示例：加载预训练的 VGG16 模型（会从网络/缓存下载权重）\n",
    "model = models.vgg16(weights='IMAGENET1K_V1')\n",
    "print('Loaded model with pretrained weights')"
   ]
  },
  {
   "cell_type": "code",
   "execution_count": null,
   "id": "183aea21",
   "metadata": {},
   "outputs": [],
   "source": [
    "# 保存模型权重到文件\n",
    "torch.save(model.state_dict(), 'model_weights.pth')\n",
    "print('Saved model.state_dict() to model_weights.pth')"
   ]
  },
  {
   "cell_type": "code",
   "execution_count": null,
   "id": "9e7d4e58",
   "metadata": {},
   "outputs": [],
   "source": [
    "# 加载权重：先实例化相同结构的模型，再加载 state_dict\n",
    "untrained_model = models.vgg16()  # 不指定 weights, 创建未训练模型\n",
    "untrained_model.load_state_dict(torch.load('model_weights.pth'))\n",
    "untrained_model.eval()\n",
    "print('Loaded weights into new model and set to eval()')"
   ]
  },
  {
   "cell_type": "code",
   "execution_count": null,
   "id": "54ec1575",
   "metadata": {},
   "outputs": [],
   "source": [
    "# 保存完整模型（包含结构与参数）\n",
    "torch.save(model, 'model_full.pth')\n",
    "print('Saved full model to model_full.pth')\n",
    "\n",
    "# 加载\n",
    "model = models.vgg16()   # 保持结构一致\n",
    "model.load_state_dict(torch.load('model_weights.pth'))\n",
    "model.eval()"
   ]
  },
  {
   "cell_type": "markdown",
   "id": "aa7bf298",
   "metadata": {},
   "source": [
    "## 注意事项\n",
    "\n",
    "- 在推理前调用 `model.eval()`：这会将模型中的 dropout 和 batchnorm 层切换到评估模式，确保一致的输出。\n",
    "- 加载权重时，请确保模型结构与保存时一致，否则 `load_state_dict` 会报错或部分匹配（可使用 `strict=False`）。\n",
    "- 当在不同设备间保存/加载（CPU ↔ GPU）时，可使用 `map_location` 参数： `torch.load(PATH, map_location='cpu')`。\n",
    "- 推荐保存 `state_dict`（更灵活），仅在简短实验或原型时才保存完整模型对象。"
   ]
  },
  {
   "cell_type": "markdown",
   "id": "b1ba2c79",
   "metadata": {},
   "source": [
    "## 小结与参考\n",
    "\n",
    "- 保存/加载模型权重的典型流程是：`torch.save(model.state_dict(), PATH)` → `model = MyModel()` → `model.load_state_dict(torch.load(PATH))` → `model.eval()`。 "
   ]
  }
 ],
 "metadata": {
  "kernelspec": {
   "display_name": "ML3.10",
   "language": "python",
   "name": "python3"
  },
  "language_info": {
   "codemirror_mode": {
    "name": "ipython",
    "version": 3
   },
   "file_extension": ".py",
   "mimetype": "text/x-python",
   "name": "python",
   "nbconvert_exporter": "python",
   "pygments_lexer": "ipython3",
   "version": "3.10.0"
  }
 },
 "nbformat": 4,
 "nbformat_minor": 5
}
