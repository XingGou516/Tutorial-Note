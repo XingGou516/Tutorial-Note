{
 "cells": [
  {
   "cell_type": "markdown",
   "id": "273905f1",
   "metadata": {},
   "source": [
    "# Transforms\n",
    "\n",
    "- 译文：https://pytorch.apachecn.org/2.0/tutorials/beginner/basics/transforms_tutorial\n",
    "- 原文：https://pytorch.org/tutorials/beginner/basics/transforms_tutorial.html"
   ]
  },
  {
   "cell_type": "markdown",
   "id": "7f21cdcd",
   "metadata": {},
   "source": [
    "## 概览\n",
    "\n",
    "- 数据常不是训练所需的最终格式，需通过 transforms 将数据转换为模型可用的格式。\n",
    "- TorchVision 的各个 Dataset 接受两个可选参数：`transform`（用于变换特征）和 `target_transform`（用于变换标签），两者都接受可调用对象。\n",
    "- `torchvision.transforms` 模块提供了多种常用变换，且可组合使用。"
   ]
  },
  {
   "cell_type": "code",
   "execution_count": null,
   "id": "a43071a0",
   "metadata": {},
   "outputs": [],
   "source": [
    "import torch\n",
    "from torchvision import datasets\n",
    "from torchvision.transforms import ToTensor, Lambda\n",
    "import matplotlib.pyplot as plt"
   ]
  },
  {
   "cell_type": "code",
   "execution_count": null,
   "id": "e5ca9b04",
   "metadata": {},
   "outputs": [],
   "source": [
    "ds = datasets.FashionMNIST(\n",
    "    root='data',\n",
    "    train=True,\n",
    "    download=True,\n",
    "    transform=ToTensor(),\n",
    "    target_transform=Lambda(lambda y: torch.zeros(10, dtype=torch.float).scatter_(0, torch.tensor(y), value=1))\n",
    ")\n",
    "\n",
    "print('Loaded dataset with transforms; samples:', len(ds))\n",
    "# 查看一个样本（特征为 tensor，标签为 one-hot tensor）\n",
    "img, label = ds[0]\n",
    "print('img type/shape:', type(img), img.shape)\n",
    "print('label (one-hot):', label)\n",
    "\n",
    "# 可视化（如果运行环境支持）\n",
    "plt.imshow(img.squeeze(), cmap='gray')\n",
    "plt.title(f'one-hot label sum: {label.sum()}')\n",
    "plt.axis('off')\n",
    "plt.show()"
   ]
  },
  {
   "cell_type": "markdown",
   "id": "d9e2f63e",
   "metadata": {},
   "source": [
    "### ToTensor()\n",
    "\n",
    "- `ToTensor` 将 PIL 图像或 NumPy ndarray 转换为 `torch.FloatTensor`，并把像素值缩放到 `[0., 1.]`。这通常是将图像输入神经网络前的第一步变换。"
   ]
  },
  {
   "cell_type": "markdown",
   "id": "94c45841",
   "metadata": {},
   "source": [
    "### Lambda Transforms（标签变换示例）\n",
    "\n",
    "- `Lambda` 接受任意用户函数用于对样本或标签进行自定义变换。下面示例将整数标签转换为 one-hot 编码的 tensor："
   ]
  },
  {
   "cell_type": "code",
   "execution_count": null,
   "id": "65f7ece9",
   "metadata": {},
   "outputs": [],
   "source": [
    "target_transform = Lambda(lambda y: torch.zeros(10, dtype=torch.float).scatter_(dim=0, index=torch.tensor(y), value=1))"
   ]
  },
  {
   "cell_type": "markdown",
   "id": "578e939c",
   "metadata": {},
   "source": [
    "- 解释：先创建长度为 10 的零 tensor，再使用 `scatter_` 在索引 `y` 位置写入 1，从而得到 one-hot 向量。注意 `scatter_` 是就地操作，会修改目标 tensor。"
   ]
  },
  {
   "cell_type": "markdown",
   "id": "0ecd8b4b",
   "metadata": {},
   "source": [
    "## 注意事项与参考\n",
    "\n",
    "- 常用变换还包括 `Normalize`（归一化）、`Resize`、`RandomCrop`、`RandomHorizontalFlip` 等，可在 `torchvision.transforms` 中找到。可通过 `Compose` 串联多个变换。\n",
    "- 注意避免在训练时对验证/测试数据应用随机变换（如随机裁剪、翻转等）。"
   ]
  }
 ],
 "metadata": {
  "kernelspec": {
   "display_name": "ML3.10",
   "language": "python",
   "name": "python3"
  },
  "language_info": {
   "codemirror_mode": {
    "name": "ipython",
    "version": 3
   },
   "file_extension": ".py",
   "mimetype": "text/x-python",
   "name": "python",
   "nbconvert_exporter": "python",
   "pygments_lexer": "ipython3",
   "version": "3.10.0"
  }
 },
 "nbformat": 4,
 "nbformat_minor": 5
}
