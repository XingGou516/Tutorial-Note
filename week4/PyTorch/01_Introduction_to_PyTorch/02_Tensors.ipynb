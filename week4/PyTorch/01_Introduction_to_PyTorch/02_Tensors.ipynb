{
 "cells": [
  {
   "cell_type": "markdown",
   "id": "b4b6747e",
   "metadata": {},
   "source": [
    "# Tensors\n",
    "\n",
    "- 译文：https://pytorch.apachecn.org/2.0/tutorials/beginner/basics/tensorqs_tutorial\n",
    "- 原文： https://pytorch.org/tutorials/beginner/basics/tensorqs_tutorial.html"
   ]
  },
  {
   "cell_type": "markdown",
   "id": "74d82173",
   "metadata": {},
   "source": [
    "## 概述\n",
    "\n",
    "- Tensor 是一种类似于数组/矩阵的高效数据结构，用于编码模型的输入、输出与参数。\n",
    "- 与 NumPy 的 ndarray 类似，但 Tensor 可在 GPU 等硬件加速器上运行，并且与自动微分（Autograd）紧密集成。\n",
    "- 如果你熟悉 NumPy，Tensor API 将非常直观。下面展示多种初始化与常用操作示例。"
   ]
  },
  {
   "cell_type": "code",
   "execution_count": null,
   "id": "9100d73a",
   "metadata": {},
   "outputs": [],
   "source": [
    "import torch\n",
    "import numpy as np\n",
    "\n",
    "# 简短说明输出当前 torch 版本（可选）\n",
    "print('torch version:', torch.__version__)"
   ]
  },
  {
   "cell_type": "markdown",
   "id": "fa568fa6",
   "metadata": {},
   "source": [
    "## 初始化 Tensor\n",
    "\n",
    "Tensors 可以通过多种方式初始化：直接从原生数据、从 NumPy 数组、从已有 Tensor、或使用随机 / 常量生成函数。下面分别给出示例。"
   ]
  },
  {
   "cell_type": "code",
   "execution_count": null,
   "id": "75eab1b8",
   "metadata": {},
   "outputs": [],
   "source": [
    "# 直接从原生数据创建\n",
    "data = [[1, 2],[3, 4]]\n",
    "x_data = torch.tensor(data)\n",
    "print('x_data:\\n', x_data)"
   ]
  },
  {
   "cell_type": "code",
   "execution_count": null,
   "id": "fbc8cfd4",
   "metadata": {},
   "outputs": [],
   "source": [
    "# 从 NumPy 数组创建\n",
    "np_array = np.array(data)\n",
    "x_np = torch.from_numpy(np_array)\n",
    "print('\\nx_np (from numpy):\\n', x_np)"
   ]
  },
  {
   "cell_type": "code",
   "execution_count": null,
   "id": "ccb22d62",
   "metadata": {},
   "outputs": [],
   "source": [
    "# 从已有 tensor 创建（继承形状/dtype，或覆盖 dtype）\n",
    "x_ones = torch.ones_like(x_data) # 继承 x_data 的属性\n",
    "print('\\nOnes Tensor:\\n', x_ones)\n",
    "\n",
    "x_rand = torch.rand_like(x_data, dtype=torch.float) # 覆盖数据类型\n",
    "print('\\nRandom Tensor:\\n', x_rand)"
   ]
  },
  {
   "cell_type": "code",
   "execution_count": null,
   "id": "a47018c8",
   "metadata": {},
   "outputs": [],
   "source": [
    "# 从随机数据或常量创建\n",
    "shape = (2, 3)\n",
    "rand_tensor = torch.rand(shape)\n",
    "ones_tensor = torch.ones(shape)\n",
    "zeros_tensor = torch.zeros(shape)\n",
    "\n",
    "print('\\nRandom Tensor:\\n', rand_tensor)\n",
    "print('\\nOnes Tensor:\\n', ones_tensor)\n",
    "print('\\nZeros Tensor:\\n', zeros_tensor)"
   ]
  },
  {
   "cell_type": "code",
   "execution_count": null,
   "id": "83fe4291",
   "metadata": {},
   "outputs": [],
   "source": [
    "# Tensor 的属性：shape, dtype, device\n",
    "tensor = torch.rand(3,4)\n",
    "print('\\nShape of tensor:', tensor.shape)\n",
    "print('Datatype of tensor:', tensor.dtype)\n",
    "print('Device tensor is stored on:', tensor.device)"
   ]
  },
  {
   "cell_type": "markdown",
   "id": "50be067a",
   "metadata": {},
   "source": [
    "### 在 GPU 上运行操作（提示）\n",
    "\n",
    "默认情况下，tensors 在 CPU 上创建。要在 GPU 上运行，需要显式将 tensor 移动到 GPU（若可用）："
   ]
  },
  {
   "cell_type": "code",
   "execution_count": null,
   "id": "105bf7ea",
   "metadata": {},
   "outputs": [],
   "source": [
    "if torch.cuda.is_available():\n",
    "    tensor = tensor.to('cuda')"
   ]
  },
  {
   "cell_type": "markdown",
   "id": "37e5d7f8",
   "metadata": {},
   "source": [
    "注意：在不同设备之间复制大型 tensors 代价高，应尽量减少不必要的拷贝。"
   ]
  },
  {
   "cell_type": "code",
   "execution_count": null,
   "id": "35366e0c",
   "metadata": {},
   "outputs": [],
   "source": [
    "# 索引与切片示例（类似 NumPy）\n",
    "tensor = torch.ones(4, 4)\n",
    "print('\\nFirst row:', tensor[0])\n",
    "print('First column:', tensor[:, 0])\n",
    "print('Last column:', tensor[..., -1])\n",
    "\n",
    "tensor[:,1] = 0\n",
    "print('\\nAfter setting column 1 to zero:\\n', tensor)"
   ]
  },
  {
   "cell_type": "code",
   "execution_count": null,
   "id": "bc417f03",
   "metadata": {},
   "outputs": [],
   "source": [
    "# 连接 tensors：torch.cat\n",
    "t1 = torch.cat([tensor, tensor, tensor], dim=1)\n",
    "print('\\nConcatenated tensor (dim=1):\\n', t1)"
   ]
  },
  {
   "cell_type": "code",
   "execution_count": null,
   "id": "fc943ddd",
   "metadata": {},
   "outputs": [],
   "source": [
    "# 矩阵乘法 与 元素级乘法\n",
    "# 矩阵乘法\n",
    "y1 = tensor @ tensor.T\n",
    "y2 = tensor.matmul(tensor.T)\n",
    "\n",
    "# 使用 out 参数\n",
    "y3 = torch.rand_like(y1)\n",
    "torch.matmul(tensor, tensor.T, out=y3)\n",
    "\n",
    "print('\\nMatrix product y1:\\n', y1)\n",
    "print('\\nMatrix product y3 (with out):\\n', y3)\n",
    "\n",
    "# 元素级乘法\n",
    "z1 = tensor * tensor\n",
    "z2 = tensor.mul(tensor)\n",
    "\n",
    "print('\\nElement-wise product z1:\\n', z1)"
   ]
  },
  {
   "cell_type": "code",
   "execution_count": null,
   "id": "93985561",
   "metadata": {},
   "outputs": [],
   "source": [
    "# 单个元素的 tensors：使用 item() 转为 Python 数值\n",
    "agg = tensor.sum()\n",
    "agg_item = agg.item()\n",
    "print('\\nAggregated sum (agg):', agg)\n",
    "print('As Python float (agg_item):', agg_item, type(agg_item))"
   ]
  },
  {
   "cell_type": "code",
   "execution_count": null,
   "id": "619125ce",
   "metadata": {},
   "outputs": [],
   "source": [
    "# 就地操作示例（后缀 _ 表示 in-place）\n",
    "print('\\nBefore in-place add_():\\n', tensor)\n",
    "\n",
    "tensor.add_(5)\n",
    "print('\\nAfter tensor.add_(5):\\n', tensor)\n",
    "\n",
    "# 注意：就地操作会改变历史记录，可能会影响 Autograd 的梯度计算，需谨慎使用（较节省内存）。"
   ]
  },
  {
   "cell_type": "code",
   "execution_count": null,
   "id": "8c75475d",
   "metadata": {},
   "outputs": [],
   "source": [
    "# 与 NumPy 的桥梁（CPU 上）：\n",
    "# Tensor -> NumPy\n",
    "t = torch.ones(5)\n",
    "print('\\nTensor t:', t)\n",
    "n = t.numpy()\n",
    "print('NumPy n:', n)\n",
    "\n",
    "# 修改 tensor，会反映到 numpy\n",
    "t.add_(1)\n",
    "print('\\nAfter t.add_(1):')\n",
    "print('t:', t)\n",
    "print('n:', n)\n",
    "\n",
    "# NumPy -> Tensor\n",
    "n2 = np.ones(5)\n",
    "t2 = torch.from_numpy(n2)\n",
    "print('\\nFrom numpy n2:', n2)\n",
    "print('to tensor t2:', t2)\n",
    "\n",
    "# 修改 numpy 会反映到 tensor\n",
    "np.add(n2, 1, out=n2)\n",
    "print('\\nAfter np.add(n2,1,out=n2):')\n",
    "print('n2:', n2)\n",
    "print('t2:', t2)"
   ]
  }
 ],
 "metadata": {
  "kernelspec": {
   "display_name": "ML3.10",
   "language": "python",
   "name": "python3"
  },
  "language_info": {
   "codemirror_mode": {
    "name": "ipython",
    "version": 3
   },
   "file_extension": ".py",
   "mimetype": "text/x-python",
   "name": "python",
   "nbconvert_exporter": "python",
   "pygments_lexer": "ipython3",
   "version": "3.10.0"
  }
 },
 "nbformat": 4,
 "nbformat_minor": 5
}
