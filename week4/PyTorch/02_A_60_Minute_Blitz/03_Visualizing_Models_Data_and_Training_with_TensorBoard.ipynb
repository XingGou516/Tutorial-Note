{
 "cells": [
  {
   "cell_type": "markdown",
   "id": "93d03369",
   "metadata": {},
   "source": [
    "# 使用 TensorBoard 可视化模型、数据和训练\n",
    "\n",
    "译文：https://pytorch.apachecn.org/2.0/tutorials/intermediate/tensorboard_tutorial\n",
    "原文：https://pytorch.org/tutorials/intermediate/tensorboard_tutorial.html\n",
    "\n",
    "本教程使用 Fashion-MNIST 数据集展示如何在 PyTorch 中使用 TensorBoard 可视化模型、数据和训练过程。你将学会：\n",
    "\n",
    "- 读入数据并进行适当的转换\n",
    "- 设置并写入 TensorBoard\n",
    "- 在 TensorBoard 中查看模型结构（Graphs）\n",
    "- 使用 Projector 可视化高维数据\n",
    "- 在训练时跟踪指标与可视化预测\n",
    "- 在评估时绘制精确率-召回率曲线（PR Curves）"
   ]
  },
  {
   "cell_type": "code",
   "execution_count": 1,
   "id": "7d5d7285",
   "metadata": {},
   "outputs": [],
   "source": [
    "# imports\n",
    "import matplotlib.pyplot as plt\n",
    "import numpy as np\n",
    "\n",
    "import torch\n",
    "import torchvision\n",
    "import torchvision.transforms as transforms\n",
    "\n",
    "import torch.nn as nn\n",
    "import torch.nn.functional as F\n",
    "import torch.optim as optim"
   ]
  },
  {
   "cell_type": "code",
   "execution_count": 2,
   "id": "57bf598f",
   "metadata": {},
   "outputs": [
    {
     "name": "stderr",
     "output_type": "stream",
     "text": [
      "100%|██████████| 26.4M/26.4M [24:05<00:00, 18.3kB/s]\n",
      "\n",
      "100%|██████████| 29.5k/29.5k [00:00<00:00, 64.6kB/s]\n",
      "\n",
      "100%|██████████| 4.42M/4.42M [00:02<00:00, 1.75MB/s]\n",
      "\n",
      "100%|██████████| 5.15k/5.15k [00:00<00:00, 3.92MB/s]\n",
      "\n"
     ]
    }
   ],
   "source": [
    "# transforms\n",
    "transform = transforms.Compose([\n",
    "    transforms.ToTensor(),\n",
    "    transforms.Normalize((0.5,), (0.5,))\n",
    "])\n",
    "\n",
    "# datasets\n",
    "trainset = torchvision.datasets.FashionMNIST(\n",
    "    './data', download=True, train=True, transform=transform\n",
    ")\n",
    "testset = torchvision.datasets.FashionMNIST(\n",
    "    './data', download=True, train=False, transform=transform\n",
    ")\n",
    "\n",
    "# dataloaders\n",
    "trainloader = torch.utils.data.DataLoader(\n",
    "    trainset, batch_size=4, shuffle=True, num_workers=2\n",
    ")\n",
    "\n",
    "testloader = torch.utils.data.DataLoader(\n",
    "    testset, batch_size=4, shuffle=False, num_workers=2\n",
    ")\n",
    "\n",
    "# constant for classes\n",
    "classes = (\n",
    "    'T-shirt/top', 'Trouser', 'Pullover', 'Dress', 'Coat',\n",
    "    'Sandal', 'Shirt', 'Sneaker', 'Bag', 'Ankle Boot'\n",
    ")\n",
    "\n",
    "# helper function to show an image\n",
    "# (used in the `plot_classes_preds` function below)\n",
    "def matplotlib_imshow(img, one_channel=False):\n",
    "    if one_channel:\n",
    "        img = img.mean(dim=0)\n",
    "    img = img / 2 + 0.5  # unnormalize\n",
    "    npimg = img.numpy()\n",
    "    if one_channel:\n",
    "        plt.imshow(npimg, cmap=\"Greys\")\n",
    "    else:\n",
    "        plt.imshow(np.transpose(npimg, (1, 2, 0)))\n",
    "    plt.axis('off')"
   ]
  },
  {
   "cell_type": "code",
   "execution_count": 3,
   "id": "20d84d2c",
   "metadata": {},
   "outputs": [],
   "source": [
    "# model\n",
    "class Net(nn.Module):\n",
    "    def __init__(self):\n",
    "        super(Net, self).__init__()\n",
    "        self.conv1 = nn.Conv2d(1, 6, 5)\n",
    "        self.pool = nn.MaxPool2d(2, 2)\n",
    "        self.conv2 = nn.Conv2d(6, 16, 5)\n",
    "        self.fc1 = nn.Linear(16 * 4 * 4, 120)\n",
    "        self.fc2 = nn.Linear(120, 84)\n",
    "        self.fc3 = nn.Linear(84, 10)\n",
    "\n",
    "    def forward(self, x):\n",
    "        x = self.pool(F.relu(self.conv1(x)))\n",
    "        x = self.pool(F.relu(self.conv2(x)))\n",
    "        x = x.view(-1, 16 * 4 * 4)\n",
    "        x = F.relu(self.fc1(x))\n",
    "        x = F.relu(self.fc2(x))\n",
    "        x = self.fc3(x)\n",
    "        return x\n",
    "\n",
    "net = Net()\n",
    "\n",
    "# loss & optimizer\n",
    "criterion = nn.CrossEntropyLoss()\n",
    "optimizer = optim.SGD(net.parameters(), lr=0.001, momentum=0.9)"
   ]
  },
  {
   "cell_type": "code",
   "execution_count": 4,
   "id": "342a12f1",
   "metadata": {},
   "outputs": [
    {
     "name": "stdout",
     "output_type": "stream",
     "text": [
      "Logged image grid to TensorBoard\n"
     ]
    },
    {
     "data": {
      "image/png": "[encoded data removed]",
      "text/plain": [
       "<Figure size 640x480 with 1 Axes>"
      ]
     },
     "metadata": {},
     "output_type": "display_data"
    }
   ],
   "source": [
    "# 1) TensorBoard 设置与写入图像网格\n",
    "from torch.utils.tensorboard import SummaryWriter\n",
    "\n",
    "# default `log_dir` is \"runs\" - we'll be more specific here\n",
    "writer = SummaryWriter('runs/fashion_mnist_experiment_1')\n",
    "\n",
    "# get some random training images\n",
    "dataiter = iter(trainloader)\n",
    "images, labels = next(dataiter)\n",
    "\n",
    "# create grid of images\n",
    "img_grid = torchvision.utils.make_grid(images)\n",
    "\n",
    "# show images inline (optional)\n",
    "matplotlib_imshow(img_grid, one_channel=True)\n",
    "\n",
    "# write to tensorboard\n",
    "writer.add_image('four_fashion_mnist_images', img_grid)\n",
    "print('Logged image grid to TensorBoard')"
   ]
  },
  {
   "cell_type": "markdown",
   "id": "870da945",
   "metadata": {},
   "source": [
    "### 启动 TensorBoard（可选）\n",
    "\n",
    "在终端运行以下命令，然后在浏览器打开 http://localhost:6006 查看：\n",
    "\n",
    "```bash\n",
    "tensorboard --logdir=runs\n",
    "```\n",
    "\n",
    "当你运行上面的“写入图像网格”的单元后，即可在 TensorBoard 的 Images 标签中查看写入的图片。"
   ]
  },
  {
   "cell_type": "code",
   "execution_count": 5,
   "id": "cf134754",
   "metadata": {},
   "outputs": [
    {
     "name": "stdout",
     "output_type": "stream",
     "text": [
      "Logged model graph to TensorBoard\n"
     ]
    }
   ],
   "source": [
    "# 2) 使用 TensorBoard 检查模型（Graphs）\n",
    "# 注意：需要提供一个样例 batch 作为输入来记录计算图\n",
    "writer.add_graph(net, images)\n",
    "writer.flush()\n",
    "print('Logged model graph to TensorBoard')"
   ]
  },
  {
   "cell_type": "code",
   "execution_count": 6,
   "id": "46ba8b12",
   "metadata": {},
   "outputs": [
    {
     "name": "stdout",
     "output_type": "stream",
     "text": [
      "Logged embeddings to TensorBoard Projector\n"
     ]
    }
   ],
   "source": [
    "# 3) 添加 Projector（Embedding）\n",
    "# helper function\n",
    "\n",
    "def select_n_random(data, labels, n=100):\n",
    "    \"\"\"\n",
    "    Selects n random datapoints and their corresponding labels from a dataset\n",
    "    \"\"\"\n",
    "    assert len(data) == len(labels)\n",
    "    perm = torch.randperm(len(data))\n",
    "    return data[perm][:n], labels[perm][:n]\n",
    "\n",
    "# select random images and their target indices\n",
    "images_raw, labels_raw = select_n_random(trainset.data, trainset.targets)\n",
    "\n",
    "# get the class labels for each image\n",
    "class_labels = [classes[lab.item()] for lab in labels_raw]\n",
    "\n",
    "# log embeddings\n",
    "features = images_raw.view(-1, 28 * 28).float()\n",
    "writer.add_embedding(\n",
    "    features,\n",
    "    metadata=class_labels,\n",
    "    label_img=images_raw.unsqueeze(1).float(),\n",
    ")\n",
    "writer.flush()\n",
    "print('Logged embeddings to TensorBoard Projector')"
   ]
  },
  {
   "cell_type": "code",
   "execution_count": 7,
   "id": "ebe26a45",
   "metadata": {},
   "outputs": [
    {
     "name": "stdout",
     "output_type": "stream",
     "text": [
      "Finished Training (logged scalars and figures)\n"
     ]
    }
   ],
   "source": [
    "# 4) 使用 TensorBoard 跟踪模型训练\n",
    "\n",
    "def images_to_probs(net, images):\n",
    "    \"\"\"\n",
    "    Generates predictions and corresponding probabilities from a trained\n",
    "    network and a list of images\n",
    "    \"\"\"\n",
    "    with torch.no_grad():\n",
    "        output = net(images)\n",
    "        # convert output probabilities to predicted class\n",
    "        _, preds_tensor = torch.max(output, 1)\n",
    "        preds = np.squeeze(preds_tensor.numpy())\n",
    "        probs = [F.softmax(el, dim=0)[i].item() for i, el in zip(preds, output)]\n",
    "    return preds, probs\n",
    "\n",
    "\n",
    "def plot_classes_preds(net, images, labels):\n",
    "    \"\"\"\n",
    "    Generates matplotlib Figure using a trained network, along with images\n",
    "    and labels from a batch, that shows the network's top prediction along\n",
    "    with its probability, alongside the actual label, coloring this\n",
    "    information based on whether the prediction was correct or not.\n",
    "    Uses the \"images_to_probs\" function.\n",
    "    \"\"\"\n",
    "    preds, probs = images_to_probs(net, images)\n",
    "    # plot the images in the batch, along with predicted and true labels\n",
    "    fig = plt.figure(figsize=(12, 4))\n",
    "    for idx in np.arange(4):\n",
    "        ax = fig.add_subplot(1, 4, idx + 1, xticks=[], yticks=[])\n",
    "        matplotlib_imshow(images[idx], one_channel=True)\n",
    "        ax.set_title(\n",
    "            \"{0}, {1:.1f}% (label: {2})\".format(\n",
    "                classes[preds[idx]], probs[idx] * 100.0, classes[labels[idx]]\n",
    "            ),\n",
    "            color=(\"green\" if preds[idx] == labels[idx].item() else \"red\"),\n",
    "        )\n",
    "    fig.tight_layout()\n",
    "    return fig\n",
    "\n",
    "# train for 1 epoch and log running loss every 1000 batches, plus prediction figures\n",
    "running_loss = 0.0\n",
    "for epoch in range(1):  # loop over the dataset multiple times\n",
    "    for i, data in enumerate(trainloader, 0):\n",
    "        # get the inputs; data is a list of [inputs, labels]\n",
    "        inputs, labels = data\n",
    "\n",
    "        # zero the parameter gradients\n",
    "        optimizer.zero_grad()\n",
    "\n",
    "        # forward + backward + optimize\n",
    "        outputs = net(inputs)\n",
    "        loss = criterion(outputs, labels)\n",
    "        loss.backward()\n",
    "        optimizer.step()\n",
    "\n",
    "        running_loss += loss.item()\n",
    "        if i % 1000 == 999:  # every 1000 mini-batches...\n",
    "            # ...log the running loss\n",
    "            writer.add_scalar(\n",
    "                'training loss', running_loss / 1000, epoch * len(trainloader) + i\n",
    "            )\n",
    "            # ...log a Matplotlib Figure showing predictions vs actuals\n",
    "            writer.add_figure(\n",
    "                'predictions vs. actuals',\n",
    "                plot_classes_preds(net, inputs, labels),\n",
    "                global_step=epoch * len(trainloader) + i,\n",
    "            )\n",
    "            running_loss = 0.0\n",
    "\n",
    "print('Finished Training (logged scalars and figures)')"
   ]
  },
  {
   "cell_type": "code",
   "execution_count": 8,
   "id": "016202f7",
   "metadata": {},
   "outputs": [
    {
     "name": "stdout",
     "output_type": "stream",
     "text": [
      "Logged PR curves to TensorBoard\n"
     ]
    }
   ],
   "source": [
    "# 5) 使用 TensorBoard 评估训练后的模型（PR Curves）\n",
    "# 1. gets the probability predictions in a test_size x num_classes Tensor\n",
    "# 2. gets the preds in a test_size Tensor\n",
    "# takes ~some seconds to run\n",
    "class_probs = []\n",
    "class_label = []\n",
    "with torch.no_grad():\n",
    "    for data in testloader:\n",
    "        images, labels = data\n",
    "        output = net(images)\n",
    "        class_probs_batch = [F.softmax(el, dim=0) for el in output]\n",
    "        class_probs.append(class_probs_batch)\n",
    "        class_label.append(labels)\n",
    "\n",
    "test_probs = torch.cat([torch.stack(batch) for batch in class_probs])\n",
    "test_label = torch.cat(class_label)\n",
    "\n",
    "# helper to add PR curve for a single class\n",
    "\n",
    "def add_pr_curve_tensorboard(class_index, test_probs, test_label, global_step=0):\n",
    "    \"\"\"\n",
    "    Takes in a \"class_index\" from 0 to 9 and plots the corresponding\n",
    "    precision-recall curve\n",
    "    \"\"\"\n",
    "    tensorboard_truth = test_label == class_index\n",
    "    tensorboard_probs = test_probs[:, class_index]\n",
    "\n",
    "    writer.add_pr_curve(\n",
    "        classes[class_index], tensorboard_truth, tensorboard_probs, global_step=global_step\n",
    "    )\n",
    "    writer.flush()\n",
    "\n",
    "# plot all PR curves\n",
    "for i in range(len(classes)):\n",
    "    add_pr_curve_tensorboard(i, test_probs, test_label)\n",
    "\n",
    "print('Logged PR curves to TensorBoard')\n",
    "\n",
    "# close writer at the end\n",
    "writer.close()"
   ]
  }
 ],
 "metadata": {
  "kernelspec": {
   "display_name": "ML3.10",
   "language": "python",
   "name": "python3"
  },
  "language_info": {
   "codemirror_mode": {
    "name": "ipython",
    "version": 3
   },
   "file_extension": ".py",
   "mimetype": "text/x-python",
   "name": "python",
   "nbconvert_exporter": "python",
   "pygments_lexer": "ipython3",
   "version": "3.10.0"
  }
 },
 "nbformat": 4,
 "nbformat_minor": 5
}
