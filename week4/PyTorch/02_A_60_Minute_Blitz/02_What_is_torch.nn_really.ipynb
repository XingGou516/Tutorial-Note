{
 "cells": [
  {
   "cell_type": "markdown",
   "id": "7cab1507",
   "metadata": {},
   "source": [
    "# torch.nn 究竟是什么？\n",
    "\n",
    "译文：https://pytorch.apachecn.org/2.0/tutorials/beginner/nn_tutorial  \n",
    "原文：https://pytorch.org/tutorials/beginner/nn_tutorial.html  "
   ]
  },
  {
   "cell_type": "markdown",
   "id": "db2c8078",
   "metadata": {},
   "source": [
    "PyTorch 提供设计地很优雅的模块和类，比如 `torch.nn`, `torch.optim`, `Dataset` 和 `DataLoader` 来帮助你创建和训练神经网络。为了能完全发挥它们的能力并自定义它们来解决你的问题，你需要切实的理解它们在做什么。为了让你由浅入深的理解，我们会在 MNIST 数据集上首先训练基本的神经网络，暂时还不使用任何这些模型的特性；我们一开始只使用 PyTorch tensor 的最基本的功能。然后，我们会逐渐地从这些特性中每次增加一个，展示每一样究竟做了什么，以及它是如何让代码更加准确或者更加灵活的。"
   ]
  },
  {
   "cell_type": "code",
   "execution_count": 2,
   "id": "21195475",
   "metadata": {},
   "outputs": [],
   "source": [
    "from pathlib import Path\n",
    "import requests\n",
    "\n",
    "DATA_PATH = Path(\"data\")\n",
    "PATH = DATA_PATH / \"mnist\"\n",
    "\n",
    "PATH.mkdir(parents=True, exist_ok=True)\n",
    "\n",
    "URL = \"https://github.com/pytorch/tutorials/raw/main/_static/\"\n",
    "FILENAME = \"mnist.pkl.gz\"\n",
    "\n",
    "if not (PATH / FILENAME).exists():\n",
    "    content = requests.get(URL + FILENAME).content\n",
    "    (PATH / FILENAME).open(\"wb\").write(content)\n",
    "    print('Downloaded', FILENAME)"
   ]
  },
  {
   "cell_type": "code",
   "execution_count": 4,
   "id": "dd1aa1a7",
   "metadata": {},
   "outputs": [
    {
     "data": {
      "image/png": "[encoded data removed]",
      "text/plain": [
       "<Figure size 640x480 with 1 Axes>"
      ]
     },
     "metadata": {},
     "output_type": "display_data"
    },
    {
     "name": "stdout",
     "output_type": "stream",
     "text": [
      "x_train.shape = (50000, 784)\n",
      "torch.Size([50000, 784])\n",
      "tensor(0) tensor(9)\n"
     ]
    }
   ],
   "source": [
    "import pickle\n",
    "import gzip\n",
    "\n",
    "with gzip.open((PATH / FILENAME).as_posix(), \"rb\") as f:\n",
    "    ((x_train, y_train), (x_valid, y_valid), _) = pickle.load(f, encoding=\"latin-1\")\n",
    "\n",
    "from matplotlib import pyplot\n",
    "import numpy as np\n",
    "\n",
    "# 展示第一张图像\n",
    "pyplot.imshow(x_train[0].reshape((28, 28)), cmap=\"gray\")\n",
    "pyplot.show()\n",
    "\n",
    "print('x_train.shape =', x_train.shape)\n",
    "\n",
    "# 转换为 torch tensors\n",
    "import torch\n",
    "\n",
    "x_train, y_train, x_valid, y_valid = map(\n",
    "    torch.tensor, (x_train, y_train, x_valid, y_valid)\n",
    ")\n",
    "\n",
    "n, c = x_train.shape\n",
    "print(x_train.shape)\n",
    "print(y_train.min(), y_train.max())"
   ]
  },
  {
   "cell_type": "markdown",
   "id": "ff2625ad",
   "metadata": {},
   "source": [
    "## 神经网络从零开始（不用 torch.nn）\n",
    "\n",
    "让我们首先只用 PyTorch tensor 操作来创建一个模型。PyTorch 提供创建填充了随机数或者零的 tensor 的方法，我们将用这些方法来创建一个简单线性模型的权重和偏差。它们只是普通的 tensor，但我们会设置 `requires_grad=True` 以便自动求导。注意：我们用 Xavier 初始化（乘以 1/sqrt(n)）。"
   ]
  },
  {
   "cell_type": "code",
   "execution_count": 5,
   "id": "84b0da68",
   "metadata": {},
   "outputs": [],
   "source": [
    "import math\n",
    "\n",
    "# 初始化权重与偏置（Xavier 初始化），并启用梯度\n",
    "a = 784\n",
    "b = 10\n",
    "weights = torch.randn(a, b) / math.sqrt(a)\n",
    "weights.requires_grad_()\n",
    "bias = torch.zeros(b, requires_grad=True)\n",
    "\n",
    "# log_softmax 与模型定义\n",
    "def log_softmax(x):\n",
    "    return x - x.exp().sum(-1).log().unsqueeze(-1)\n",
    "\n",
    "def model(xb):\n",
    "    return log_softmax(xb @ weights + bias)"
   ]
  },
  {
   "cell_type": "code",
   "execution_count": 6,
   "id": "f12e5548",
   "metadata": {},
   "outputs": [
    {
     "name": "stdout",
     "output_type": "stream",
     "text": [
      "tensor([-2.3001, -2.2555, -2.5420, -2.5625, -2.4213, -2.4842, -2.3358, -1.8887,\n",
      "        -2.2915, -2.1388], grad_fn=<SelectBackward0>) torch.Size([64, 10])\n"
     ]
    }
   ],
   "source": [
    "bs = 64  # 批大小\n",
    "xb = x_train[0:bs]\n",
    "preds = model(xb)\n",
    "print(preds[0], preds.shape)"
   ]
  },
  {
   "cell_type": "code",
   "execution_count": 7,
   "id": "8b0c0f91",
   "metadata": {},
   "outputs": [
    {
     "name": "stdout",
     "output_type": "stream",
     "text": [
      "tensor(2.3109, grad_fn=<NegBackward0>)\n",
      "tensor(0.0938)\n"
     ]
    }
   ],
   "source": [
    "def nll(input, target):\n",
    "    return -input[range(target.shape[0]), target].mean()\n",
    "\n",
    "loss_func = nll\n",
    "\n",
    "yb = y_train[0:bs]\n",
    "print(loss_func(preds, yb))\n",
    "\n",
    "def accuracy(out, yb):\n",
    "    preds = torch.argmax(out, dim=1)\n",
    "    return (preds == yb).float().mean()\n",
    "\n",
    "print(accuracy(preds, yb))"
   ]
  },
  {
   "cell_type": "code",
   "execution_count": 8,
   "id": "b6c088ca",
   "metadata": {},
   "outputs": [
    {
     "name": "stdout",
     "output_type": "stream",
     "text": [
      "tensor(0.0829, grad_fn=<NegBackward0>) tensor(1.)\n"
     ]
    }
   ],
   "source": [
    "from IPython.core.debugger import set_trace\n",
    "\n",
    "lr = 0.5\n",
    "epochs = 2\n",
    "\n",
    "for epoch in range(epochs):\n",
    "    for i in range((n - 1) // bs + 1):\n",
    "        # set_trace()\n",
    "        start_i = i * bs\n",
    "        end_i = start_i + bs\n",
    "        xb = x_train[start_i:end_i]\n",
    "        yb = y_train[start_i:end_i]\n",
    "        pred = model(xb)\n",
    "        loss = loss_func(pred, yb)\n",
    "\n",
    "        loss.backward()\n",
    "        with torch.no_grad():\n",
    "            weights -= weights.grad * lr\n",
    "            bias -= bias.grad * lr\n",
    "            weights.grad.zero_()\n",
    "            bias.grad.zero_()\n",
    "\n",
    "print(loss_func(model(xb), yb), accuracy(model(xb), yb))"
   ]
  },
  {
   "cell_type": "markdown",
   "id": "ed05181b",
   "metadata": {},
   "source": [
    "## 使用 torch.nn.functional\n",
    "\n",
    "将手写的激活与损失函数替换为 `torch.nn.functional` 中的实现。使用 `F.cross_entropy`（内部包含 `log_softmax` + NLL）。"
   ]
  },
  {
   "cell_type": "code",
   "execution_count": 9,
   "id": "0229e786",
   "metadata": {},
   "outputs": [
    {
     "name": "stdout",
     "output_type": "stream",
     "text": [
      "tensor(0.0829, grad_fn=<NllLossBackward0>) tensor(1.)\n"
     ]
    }
   ],
   "source": [
    "import torch.nn.functional as F\n",
    "\n",
    "loss_func = F.cross_entropy\n",
    "\n",
    "def model(xb):\n",
    "    return xb @ weights + bias\n",
    "\n",
    "print(loss_func(model(xb), yb), accuracy(model(xb), yb))"
   ]
  },
  {
   "cell_type": "markdown",
   "id": "872706d7",
   "metadata": {},
   "source": [
    "## 用 nn.Module 重构\n",
    "\n",
    "子类化 `nn.Module` 与 `nn.Parameter`，将权重与偏置作为模型状态管理；使用 `forward` 定义前向计算。"
   ]
  },
  {
   "cell_type": "code",
   "execution_count": 10,
   "id": "128e02ee",
   "metadata": {},
   "outputs": [
    {
     "name": "stdout",
     "output_type": "stream",
     "text": [
      "tensor(2.2790, grad_fn=<NllLossBackward0>)\n",
      "tensor(0.0830, grad_fn=<NllLossBackward0>)\n",
      "tensor(0.0830, grad_fn=<NllLossBackward0>)\n"
     ]
    }
   ],
   "source": [
    "from torch import nn\n",
    "\n",
    "class Mnist_Logistic(nn.Module):\n",
    "    def __init__(self):\n",
    "        super().__init__()\n",
    "        self.weights = nn.Parameter(torch.randn(784, 10) / math.sqrt(784))\n",
    "        self.bias = nn.Parameter(torch.zeros(10))\n",
    "\n",
    "    def forward(self, xb):\n",
    "        return xb @ self.weights + self.bias\n",
    "\n",
    "model = Mnist_Logistic()\n",
    "print(loss_func(model(xb), yb))\n",
    "\n",
    "# 使用 model.parameters() 和 model.zero_grad() 的训练循环\n",
    "def fit():\n",
    "    for epoch in range(epochs):\n",
    "        for i in range((n - 1) // bs + 1):\n",
    "            start_i = i * bs\n",
    "            end_i = start_i + bs\n",
    "            xb = x_train[start_i:end_i]\n",
    "            yb = y_train[start_i:end_i]\n",
    "            pred = model(xb)\n",
    "            loss = loss_func(pred, yb)\n",
    "\n",
    "            loss.backward()\n",
    "            with torch.no_grad():\n",
    "                for p in model.parameters():\n",
    "                    p -= p.grad * lr\n",
    "                model.zero_grad()\n",
    "\n",
    "fit()\n",
    "print(loss_func(model(xb), yb))"
   ]
  },
  {
   "cell_type": "markdown",
   "id": "652df6f0",
   "metadata": {},
   "source": [
    "## 用 nn.Linear 重构\n",
    "\n",
    "使用 `nn.Linear(784, 10)` 替代手动权重与偏置定义，前向直接调用线性层。"
   ]
  },
  {
   "cell_type": "code",
   "execution_count": 11,
   "id": "169337ca",
   "metadata": {},
   "outputs": [
    {
     "name": "stdout",
     "output_type": "stream",
     "text": [
      "tensor(2.3267, grad_fn=<NllLossBackward0>)\n",
      "tensor(0.0802, grad_fn=<NllLossBackward0>)\n",
      "tensor(0.0802, grad_fn=<NllLossBackward0>)\n"
     ]
    }
   ],
   "source": [
    "class Mnist_Logistic(nn.Module):\n",
    "    def __init__(self):\n",
    "        super().__init__()\n",
    "        self.lin = nn.Linear(784, 10)\n",
    "    def forward(self, xb):\n",
    "        return self.lin(xb)\n",
    "\n",
    "model = Mnist_Logistic()\n",
    "print(loss_func(model(xb), yb))\n",
    "\n",
    "fit()\n",
    "print(loss_func(model(xb), yb))"
   ]
  },
  {
   "cell_type": "markdown",
   "id": "5f71665b",
   "metadata": {},
   "source": [
    "## 用 torch.optim 重构\n",
    "\n",
    "使用 `optim.SGD` 的 `step()` 和 `zero_grad()` 替代手动参数更新。"
   ]
  },
  {
   "cell_type": "code",
   "execution_count": 12,
   "id": "b14abe00",
   "metadata": {},
   "outputs": [
    {
     "name": "stdout",
     "output_type": "stream",
     "text": [
      "tensor(2.3142, grad_fn=<NllLossBackward0>)\n",
      "tensor(0.0822, grad_fn=<NllLossBackward0>)\n",
      "tensor(0.0822, grad_fn=<NllLossBackward0>)\n"
     ]
    }
   ],
   "source": [
    "from torch import optim\n",
    "\n",
    "lr = 0.5  # 复用前面的学习率\n",
    "def get_model():\n",
    "    model = Mnist_Logistic()\n",
    "    return model, optim.SGD(model.parameters(), lr=lr)\n",
    "\n",
    "model, opt = get_model()\n",
    "print(loss_func(model(xb), yb))\n",
    "\n",
    "for epoch in range(epochs):\n",
    "    for i in range((n - 1) // bs + 1):\n",
    "        start_i = i * bs\n",
    "        end_i = start_i + bs\n",
    "        xb = x_train[start_i:end_i]\n",
    "        yb = y_train[start_i:end_i]\n",
    "        pred = model(xb)\n",
    "        loss = loss_func(pred, yb)\n",
    "\n",
    "        loss.backward()\n",
    "        opt.step()\n",
    "        opt.zero_grad()\n",
    "\n",
    "print(loss_func(model(xb), yb))"
   ]
  },
  {
   "cell_type": "markdown",
   "id": "cfd5ac77",
   "metadata": {},
   "source": [
    "## 用 Dataset 重构\n",
    "\n",
    "使用 `TensorDataset` 将 `x_train` 与 `y_train` 封装到一个数据集，便于按批索引与切片。"
   ]
  },
  {
   "cell_type": "code",
   "execution_count": 13,
   "id": "294e8dfe",
   "metadata": {},
   "outputs": [
    {
     "name": "stdout",
     "output_type": "stream",
     "text": [
      "tensor(0.0829, grad_fn=<NllLossBackward0>)\n"
     ]
    }
   ],
   "source": [
    "from torch.utils.data import TensorDataset\n",
    "\n",
    "train_ds = TensorDataset(x_train, y_train)\n",
    "\n",
    "model, opt = get_model()\n",
    "\n",
    "for epoch in range(epochs):\n",
    "    for i in range((n - 1) // bs + 1):\n",
    "        xb, yb = train_ds[i * bs : i * bs + bs]\n",
    "        pred = model(xb)\n",
    "        loss = loss_func(pred, yb)\n",
    "\n",
    "        loss.backward()\n",
    "        opt.step()\n",
    "        opt.zero_grad()\n",
    "\n",
    "print(loss_func(model(xb), yb))"
   ]
  },
  {
   "cell_type": "markdown",
   "id": "11fdfa66",
   "metadata": {},
   "source": [
    "## 用 DataLoader 重构\n",
    "\n",
    "`DataLoader` 能从任意 `Dataset` 生成按批迭代的数据流，自动产出 `(xb, yb)`。"
   ]
  },
  {
   "cell_type": "code",
   "execution_count": 14,
   "id": "44fa5c09",
   "metadata": {},
   "outputs": [
    {
     "name": "stdout",
     "output_type": "stream",
     "text": [
      "tensor(0.0808, grad_fn=<NllLossBackward0>)\n"
     ]
    }
   ],
   "source": [
    "from torch.utils.data import DataLoader\n",
    "\n",
    "train_ds = TensorDataset(x_train, y_train)\n",
    "train_dl = DataLoader(train_ds, batch_size=bs)\n",
    "\n",
    "model, opt = get_model()\n",
    "\n",
    "for epoch in range(epochs):\n",
    "    for xb, yb in train_dl:\n",
    "        pred = model(xb)\n",
    "        loss = loss_func(pred, yb)\n",
    "\n",
    "        loss.backward()\n",
    "        opt.step()\n",
    "        opt.zero_grad()\n",
    "\n",
    "print(loss_func(model(xb), yb))"
   ]
  },
  {
   "cell_type": "markdown",
   "id": "9d69e48a",
   "metadata": {},
   "source": [
    "## 增加验证\n",
    "\n",
    "创建训练与验证集的 DataLoader，训练阶段 `model.train()`，评估阶段 `model.eval()` 并汇总验证损失。"
   ]
  },
  {
   "cell_type": "code",
   "execution_count": 15,
   "id": "4b2e065b",
   "metadata": {},
   "outputs": [
    {
     "name": "stdout",
     "output_type": "stream",
     "text": [
      "0 tensor(0.2955)\n",
      "1 tensor(0.3166)\n",
      "1 tensor(0.3166)\n"
     ]
    }
   ],
   "source": [
    "train_ds = TensorDataset(x_train, y_train)\n",
    "train_dl = DataLoader(train_ds, batch_size=bs, shuffle=True)\n",
    "\n",
    "valid_ds = TensorDataset(x_valid, y_valid)\n",
    "valid_dl = DataLoader(valid_ds, batch_size=bs * 2)\n",
    "\n",
    "model, opt = get_model()\n",
    "\n",
    "for epoch in range(epochs):\n",
    "    model.train()\n",
    "    for xb, yb in train_dl:\n",
    "        pred = model(xb)\n",
    "        loss = loss_func(pred, yb)\n",
    "        loss.backward()\n",
    "        opt.step()\n",
    "        opt.zero_grad()\n",
    "\n",
    "    model.eval()\n",
    "    with torch.no_grad():\n",
    "        valid_loss = sum(loss_func(model(xb), yb) for xb, yb in valid_dl)\n",
    "    print(epoch, valid_loss / len(valid_dl))"
   ]
  },
  {
   "cell_type": "markdown",
   "id": "6826df37",
   "metadata": {},
   "source": [
    "## 创建 fit() 与 get_data()\n",
    "\n",
    "将每批的损失计算封装为 `loss_batch`，并实现通用的 `fit` 训练循环与 `get_data` 数据加载器构造函数。"
   ]
  },
  {
   "cell_type": "code",
   "execution_count": 16,
   "id": "6a83a924",
   "metadata": {},
   "outputs": [
    {
     "name": "stdout",
     "output_type": "stream",
     "text": [
      "0 0.316369152033329\n",
      "1 0.28831297622919083\n",
      "1 0.28831297622919083\n"
     ]
    }
   ],
   "source": [
    "import numpy as np\n",
    "\n",
    "def loss_batch(model, loss_func, xb, yb, opt=None):\n",
    "    loss = loss_func(model(xb), yb)\n",
    "    if opt is not None:\n",
    "        loss.backward()\n",
    "        opt.step()\n",
    "        opt.zero_grad()\n",
    "    return loss.item(), len(xb)\n",
    "\n",
    "\n",
    "def fit(epochs, model, loss_func, opt, train_dl, valid_dl):\n",
    "    for epoch in range(epochs):\n",
    "        model.train()\n",
    "        for xb, yb in train_dl:\n",
    "            loss_batch(model, loss_func, xb, yb, opt)\n",
    "        model.eval()\n",
    "        with torch.no_grad():\n",
    "            losses, nums = zip(*[loss_batch(model, loss_func, xb, yb) for xb, yb in valid_dl])\n",
    "        val_loss = np.sum(np.multiply(losses, nums)) / np.sum(nums)\n",
    "        print(epoch, val_loss)\n",
    "\n",
    "\n",
    "def get_data(train_ds, valid_ds, bs):\n",
    "    return (\n",
    "        DataLoader(train_ds, batch_size=bs, shuffle=True),\n",
    "        DataLoader(valid_ds, batch_size=bs * 2),\n",
    "    )\n",
    "\n",
    "train_ds = TensorDataset(x_train, y_train)\n",
    "valid_ds = TensorDataset(x_valid, y_valid)\n",
    "train_dl, valid_dl = get_data(train_ds, valid_ds, bs)\n",
    "model, opt = get_model()\n",
    "fit(epochs, model, loss_func, opt, train_dl, valid_dl)"
   ]
  },
  {
   "cell_type": "markdown",
   "id": "c4082353",
   "metadata": {},
   "source": [
    "## 换成 CNN\n",
    "\n",
    "定义 3 层卷积的 CNN，并沿用通用训练循环进行训练与验证。"
   ]
  },
  {
   "cell_type": "code",
   "execution_count": 17,
   "id": "706d7230",
   "metadata": {},
   "outputs": [
    {
     "name": "stdout",
     "output_type": "stream",
     "text": [
      "0 0.3545902111530304\n",
      "1 0.2335419843196869\n",
      "1 0.2335419843196869\n"
     ]
    }
   ],
   "source": [
    "class Mnist_CNN(nn.Module):\n",
    "    def __init__(self):\n",
    "        super().__init__()\n",
    "        self.conv1 = nn.Conv2d(1, 16, kernel_size=3, stride=2, padding=1)\n",
    "        self.conv2 = nn.Conv2d(16, 16, kernel_size=3, stride=2, padding=1)\n",
    "        self.conv3 = nn.Conv2d(16, 10, kernel_size=3, stride=2, padding=1)\n",
    "\n",
    "    def forward(self, xb):\n",
    "        xb = xb.view(-1, 1, 28, 28)\n",
    "        xb = F.relu(self.conv1(xb))\n",
    "        xb = F.relu(self.conv2(xb))\n",
    "        xb = F.relu(self.conv3(xb))\n",
    "        xb = F.avg_pool2d(xb, 4)\n",
    "        return xb.view(-1, xb.size(1))\n",
    "\n",
    "lr = 0.1\n",
    "model = Mnist_CNN()\n",
    "opt = optim.SGD(model.parameters(), lr=lr, momentum=0.9)\n",
    "fit(epochs, model, loss_func, opt, train_dl, valid_dl)"
   ]
  },
  {
   "cell_type": "markdown",
   "id": "015c663b",
   "metadata": {},
   "source": [
    "## 使用 nn.Sequential\n",
    "\n",
    "用 `nn.Sequential` 简化模型结构，配合自定义 `Lambda` 层处理 `view` 等操作。"
   ]
  },
  {
   "cell_type": "code",
   "execution_count": 18,
   "id": "d327ac9e",
   "metadata": {},
   "outputs": [
    {
     "name": "stdout",
     "output_type": "stream",
     "text": [
      "0 0.371336292052269\n",
      "1 0.22604868812561035\n",
      "1 0.22604868812561035\n"
     ]
    }
   ],
   "source": [
    "class Lambda(nn.Module):\n",
    "    def __init__(self, func):\n",
    "        super().__init__()\n",
    "        self.func = func\n",
    "    def forward(self, x):\n",
    "        return self.func(x)\n",
    "\n",
    "def preprocess(x):\n",
    "    return x.view(-1, 1, 28, 28)\n",
    "\n",
    "model = nn.Sequential(\n",
    "    Lambda(preprocess),\n",
    "    nn.Conv2d(1, 16, kernel_size=3, stride=2, padding=1),\n",
    "    nn.ReLU(),\n",
    "    nn.Conv2d(16, 16, kernel_size=3, stride=2, padding=1),\n",
    "    nn.ReLU(),\n",
    "    nn.Conv2d(16, 10, kernel_size=3, stride=2, padding=1),\n",
    "    nn.ReLU(),\n",
    "    nn.AvgPool2d(4),\n",
    "    Lambda(lambda x: x.view(x.size(0), -1)),\n",
    ")\n",
    "\n",
    "opt = optim.SGD(model.parameters(), lr=lr, momentum=0.9)\n",
    "fit(epochs, model, loss_func, opt, train_dl, valid_dl)"
   ]
  },
  {
   "cell_type": "markdown",
   "id": "c9cec4b0",
   "metadata": {},
   "source": [
    "## 包装 DataLoader 与自适应池化\n",
    "\n",
    "用 `WrappedDataLoader` 将预处理放在迭代过程中；用 `nn.AdaptiveAvgPool2d(1)` 适配任意输入尺寸。"
   ]
  },
  {
   "cell_type": "code",
   "execution_count": 19,
   "id": "8fb7f7ab",
   "metadata": {},
   "outputs": [
    {
     "name": "stdout",
     "output_type": "stream",
     "text": [
      "0 0.3499101365327835\n",
      "1 0.26811726083755494\n",
      "1 0.26811726083755494\n"
     ]
    }
   ],
   "source": [
    "def preprocess(x, y):\n",
    "    return x.view(-1, 1, 28, 28), y\n",
    "\n",
    "class WrappedDataLoader:\n",
    "    def __init__(self, dl, func):\n",
    "        self.dl = dl\n",
    "        self.func = func\n",
    "    def __len__(self):\n",
    "        return len(self.dl)\n",
    "    def __iter__(self):\n",
    "        for b in self.dl:\n",
    "            yield (self.func(*b))\n",
    "\n",
    "train_ds = TensorDataset(x_train, y_train)\n",
    "valid_ds = TensorDataset(x_valid, y_valid)\n",
    "train_dl, valid_dl = get_data(train_ds, valid_ds, bs)\n",
    "train_dl = WrappedDataLoader(train_dl, preprocess)\n",
    "valid_dl = WrappedDataLoader(valid_dl, preprocess)\n",
    "\n",
    "model = nn.Sequential(\n",
    "    nn.Conv2d(1, 16, kernel_size=3, stride=2, padding=1),\n",
    "    nn.ReLU(),\n",
    "    nn.Conv2d(16, 16, kernel_size=3, stride=2, padding=1),\n",
    "    nn.ReLU(),\n",
    "    nn.Conv2d(16, 10, kernel_size=3, stride=2, padding=1),\n",
    "    nn.ReLU(),\n",
    "    nn.AdaptiveAvgPool2d(1),\n",
    "    Lambda(lambda x: x.view(x.size(0), -1)),\n",
    ")\n",
    "\n",
    "opt = optim.SGD(model.parameters(), lr=lr, momentum=0.9)\n",
    "fit(epochs, model, loss_func, opt, train_dl, valid_dl)"
   ]
  },
  {
   "cell_type": "markdown",
   "id": "28cd8404",
   "metadata": {},
   "source": [
    "## 使用你的 GPU\n",
    "\n",
    "检查 CUDA 可用性，创建设备 `dev`，将数据与模型移动到 GPU（若可用）并训练。"
   ]
  },
  {
   "cell_type": "code",
   "execution_count": 20,
   "id": "ffc9f88d",
   "metadata": {},
   "outputs": [
    {
     "name": "stdout",
     "output_type": "stream",
     "text": [
      "True\n",
      "0 0.2232966646194458\n",
      "0 0.2232966646194458\n",
      "1 0.18697779413461685\n",
      "1 0.18697779413461685\n"
     ]
    }
   ],
   "source": [
    "print(torch.cuda.is_available())\n",
    "\n",
    "dev = torch.device(\"cuda\") if torch.cuda.is_available() else torch.device(\"cpu\")\n",
    "\n",
    "def preprocess(x, y):\n",
    "    return x.view(-1, 1, 28, 28).to(dev), y.to(dev)\n",
    "\n",
    "train_ds = TensorDataset(x_train, y_train)\n",
    "valid_ds = TensorDataset(x_valid, y_valid)\n",
    "train_dl, valid_dl = get_data(train_ds, valid_ds, bs)\n",
    "train_dl = WrappedDataLoader(train_dl, preprocess)\n",
    "valid_dl = WrappedDataLoader(valid_dl, preprocess)\n",
    "\n",
    "model = model.to(dev)\n",
    "opt = optim.SGD(model.parameters(), lr=lr, momentum=0.9)\n",
    "fit(epochs, model, loss_func, opt, train_dl, valid_dl)"
   ]
  },
  {
   "cell_type": "markdown",
   "id": "1bd3b368",
   "metadata": {},
   "source": [
    "## 总结与后续\n",
    "\n",
    "本笔记从零开始搭建 MNIST 分类器，一步步过渡到更高层的 PyTorch API：\n",
    "\n",
    "- 手写 `log_softmax` 与 NLL 损失，理解梯度下降细节；\n",
    "- 使用 `torch.nn.functional` 简化损失与激活；\n",
    "- 封装为 `nn.Module` 与 `nn.Linear`，通过 `parameters()` 统一管理权重；\n",
    "- 借助 `torch.optim` 优化器，规范化训练循环；\n",
    "- 用 `TensorDataset`/`DataLoader` 管理数据与批次；\n",
    "- 抽象 `fit`/`loss_batch`/`get_data`，形成通用训练范式；\n",
    "- 构建卷积网络与 `nn.Sequential`/自定义 `Lambda` 层；\n",
    "- 使用 `WrappedDataLoader` 与 `AdaptiveAvgPool2d` 简化预处理与尺寸变化；\n",
    "- 在可用时将模型与数据迁移到 GPU 加速训练。\n",
    "\n",
    "可以尝试：\n",
    "\n",
    "- 调整 `bs/epochs/lr/momentum` 等超参；\n",
    "- 将优化器替换为 `Adam` 等；\n",
    "- 在 CNN 中加入 `BatchNorm`/`Dropout`；\n",
    "- 扩展到 CIFAR-10/自定义数据集。"
   ]
  }
 ],
 "metadata": {
  "kernelspec": {
   "display_name": "ML3.10",
   "language": "python",
   "name": "python3"
  },
  "language_info": {
   "codemirror_mode": {
    "name": "ipython",
    "version": 3
   },
   "file_extension": ".py",
   "mimetype": "text/x-python",
   "name": "python",
   "nbconvert_exporter": "python",
   "pygments_lexer": "ipython3",
   "version": "3.10.0"
  }
 },
 "nbformat": 4,
 "nbformat_minor": 5
}
